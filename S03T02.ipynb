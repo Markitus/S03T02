{
 "cells": [
  {
   "cell_type": "markdown",
   "id": "f8b00a04",
   "metadata": {},
   "source": [
    "# Exercici 1"
   ]
  },
  {
   "cell_type": "code",
   "execution_count": 8,
   "id": "78a913e8",
   "metadata": {},
   "outputs": [
    {
     "name": "stdout",
     "output_type": "stream",
     "text": [
      "1\n",
      "<class 'numpy.ndarray'>\n"
     ]
    }
   ],
   "source": [
    "import numpy as np\n",
    "arr=np.array([1,2,3,4,5,6,7,8], dtype='i8')\n",
    "print(arr.ndim)\n",
    "print(type(arr))"
   ]
  },
  {
   "cell_type": "markdown",
   "id": "c34a65af",
   "metadata": {},
   "source": [
    "# Exercici 2"
   ]
  },
  {
   "cell_type": "code",
   "execution_count": 3,
   "id": "9149d5ea",
   "metadata": {},
   "outputs": [
    {
     "name": "stdout",
     "output_type": "stream",
     "text": [
      "[-3.5 -2.5 -1.5 -0.5  0.5  1.5  2.5  3.5]\n"
     ]
    }
   ],
   "source": [
    "x=arr.mean()\n",
    "newarr=np.add(arr,-x)\n",
    "print(newarr)"
   ]
  },
  {
   "cell_type": "markdown",
   "id": "b2358e48",
   "metadata": {},
   "source": [
    "# Exercici 3"
   ]
  },
  {
   "cell_type": "code",
   "execution_count": 11,
   "id": "e8fe87ec",
   "metadata": {
    "scrolled": true
   },
   "outputs": [
    {
     "name": "stdout",
     "output_type": "stream",
     "text": [
      "[[65 46 87 78 87]\n",
      " [53 35 93 51 29]\n",
      " [68 41 31 93  6]\n",
      " [ 7  2 24 28 92]\n",
      " [78 67 85 31  4]]\n",
      "valor màx: 93\n",
      "87\n",
      "93\n",
      "93\n",
      "92\n",
      "85\n"
     ]
    }
   ],
   "source": [
    "from numpy import random\n",
    "a=random.randint(100, size=(5))\n",
    "b=random.randint(100, size=(5))\n",
    "c=random.randint(100, size=(5))\n",
    "d=random.randint(100, size=(5))\n",
    "e=random.randint(100, size=(5))\n",
    "mat = np.array([a,b,c,d,e])\n",
    "print(mat)\n",
    "print(\"valor màx:\",mat.max())\n",
    "for x in mat:\n",
    "    print(x.max())"
   ]
  },
  {
   "cell_type": "markdown",
   "id": "05657e89",
   "metadata": {},
   "source": [
    "# Exercici 4"
   ]
  },
  {
   "cell_type": "code",
   "execution_count": 23,
   "id": "4c8d70c5",
   "metadata": {},
   "outputs": [
    {
     "name": "stdout",
     "output_type": "stream",
     "text": [
      "[[ 63 152 108  63  57]\n",
      " [120  82  51 129  98]\n",
      " [109  79  67  71  78]\n",
      " [ 27 112 143  87  70]\n",
      " [142  71  70  95  65]]\n"
     ]
    },
    {
     "ename": "ValueError",
     "evalue": "operands could not be broadcast together with shapes (5,5) (4,5) ",
     "output_type": "error",
     "traceback": [
      "\u001b[1;31m---------------------------------------------------------------------------\u001b[0m",
      "\u001b[1;31mValueError\u001b[0m                                Traceback (most recent call last)",
      "\u001b[1;32m<ipython-input-23-bb548db54b6e>\u001b[0m in \u001b[0;36m<module>\u001b[1;34m\u001b[0m\n\u001b[0;32m     12\u001b[0m \u001b[0mn\u001b[0m\u001b[1;33m=\u001b[0m\u001b[0mrandom\u001b[0m\u001b[1;33m.\u001b[0m\u001b[0mrandint\u001b[0m\u001b[1;33m(\u001b[0m\u001b[1;36m100\u001b[0m\u001b[1;33m,\u001b[0m \u001b[0msize\u001b[0m\u001b[1;33m=\u001b[0m\u001b[1;33m(\u001b[0m\u001b[1;36m5\u001b[0m\u001b[1;33m)\u001b[0m\u001b[1;33m)\u001b[0m\u001b[1;33m\u001b[0m\u001b[1;33m\u001b[0m\u001b[0m\n\u001b[0;32m     13\u001b[0m \u001b[0mmat3\u001b[0m\u001b[1;33m=\u001b[0m\u001b[0mnp\u001b[0m\u001b[1;33m.\u001b[0m\u001b[0marray\u001b[0m\u001b[1;33m(\u001b[0m\u001b[1;33m[\u001b[0m\u001b[0mk\u001b[0m\u001b[1;33m,\u001b[0m\u001b[0ml\u001b[0m\u001b[1;33m,\u001b[0m\u001b[0mm\u001b[0m\u001b[1;33m,\u001b[0m\u001b[0mn\u001b[0m\u001b[1;33m]\u001b[0m\u001b[1;33m)\u001b[0m\u001b[1;33m\u001b[0m\u001b[1;33m\u001b[0m\u001b[0m\n\u001b[1;32m---> 14\u001b[1;33m \u001b[0msuma\u001b[0m\u001b[1;33m=\u001b[0m\u001b[0mmat\u001b[0m\u001b[1;33m+\u001b[0m\u001b[0mmat3\u001b[0m\u001b[1;33m\u001b[0m\u001b[1;33m\u001b[0m\u001b[0m\n\u001b[0m",
      "\u001b[1;31mValueError\u001b[0m: operands could not be broadcast together with shapes (5,5) (4,5) "
     ]
    }
   ],
   "source": [
    "f=random.randint(100, size=(5))\n",
    "g=random.randint(100, size=(5))\n",
    "h=random.randint(100, size=(5))\n",
    "i=random.randint(100, size=(5))\n",
    "j=random.randint(100, size=(5))\n",
    "mat2 = np.array([f,g,h,i,j])\n",
    "suma=mat+mat2\n",
    "print(suma)\n",
    "k=random.randint(100, size=(5))\n",
    "l=random.randint(100, size=(5))\n",
    "m=random.randint(100, size=(5))\n",
    "n=random.randint(100, size=(5))\n",
    "mat3=np.array([k,l,m,n])\n",
    "suma=mat+mat3"
   ]
  },
  {
   "cell_type": "code",
   "execution_count": 12,
   "id": "d0aa5a7d",
   "metadata": {},
   "outputs": [
    {
     "name": "stdout",
     "output_type": "stream",
     "text": [
      "[ 592 1445  177    0 5208]\n"
     ]
    }
   ],
   "source": [
    "print(random.randint(100, size=(5))*random.randint(100, size=(5)))"
   ]
  },
  {
   "cell_type": "markdown",
   "id": "6248f040",
   "metadata": {},
   "source": [
    "# Exercici 5"
   ]
  },
  {
   "cell_type": "code",
   "execution_count": 19,
   "id": "ba95fab8",
   "metadata": {},
   "outputs": [
    {
     "name": "stdout",
     "output_type": "stream",
     "text": [
      "130\n",
      "99\n",
      "155\n",
      "85\n",
      "165\n"
     ]
    }
   ],
   "source": [
    "print(mat[0, 0]+mat[0, 0]) \n",
    "print(mat[0, 1]+mat[1, 0]) \n",
    "print(mat[0, 2]+mat[2, 0]) \n",
    "print(mat[0, 3]+mat[3, 0]) \n",
    "print(mat[0, 4]+mat[4, 0]) "
   ]
  },
  {
   "cell_type": "code",
   "execution_count": 21,
   "id": "0cb8afbe",
   "metadata": {},
   "outputs": [
    {
     "name": "stdout",
     "output_type": "stream",
     "text": [
      "10\n",
      "10\n"
     ]
    }
   ],
   "source": [
    "arr = np.array([1, 2, 3, 4])\n",
    "x=0\n",
    "for i in arr:\n",
    "    x=x+i\n",
    "print(x)\n",
    "print(arr.sum())"
   ]
  },
  {
   "cell_type": "markdown",
   "id": "47213e20",
   "metadata": {},
   "source": [
    "# Exercici 6"
   ]
  },
  {
   "cell_type": "code",
   "execution_count": 32,
   "id": "656f3ef1",
   "metadata": {},
   "outputs": [
    {
     "name": "stdout",
     "output_type": "stream",
     "text": [
      "[False False False  True]\n"
     ]
    }
   ],
   "source": [
    "mask = arr%4==0\n",
    "print(mask)"
   ]
  },
  {
   "cell_type": "markdown",
   "id": "0da858cb",
   "metadata": {},
   "source": [
    "# Exercici 7"
   ]
  },
  {
   "cell_type": "code",
   "execution_count": 35,
   "id": "0bc549fe",
   "metadata": {},
   "outputs": [
    {
     "name": "stdout",
     "output_type": "stream",
     "text": [
      "[4]\n"
     ]
    }
   ],
   "source": [
    "newarr = arr[mask]\n",
    "print(newarr)"
   ]
  },
  {
   "cell_type": "markdown",
   "id": "c3c6fe95",
   "metadata": {},
   "source": [
    "# Exercici 8"
   ]
  },
  {
   "cell_type": "code",
   "execution_count": 11,
   "id": "ab31aaef",
   "metadata": {},
   "outputs": [
    {
     "data": {
      "image/png": "[encoded data removed]",
      "text/plain": [
       "<Figure size 432x288 with 1 Axes>"
      ]
     },
     "metadata": {
      "needs_background": "light"
     },
     "output_type": "display_data"
    }
   ],
   "source": [
    "import matplotlib.pyplot as plt\n",
    "import matplotlib.image as mpimg\n",
    "import cv2\n",
    "#foto=mpimg.imread('C:/Users/Marc/Documents/croqueta1.png')\n",
    "#mpimg.imsave\n",
    "#imgplot = plt.imshow(foto)\n",
    "\n",
    "foto = cv2.imread('C:/Users/Marc/Documents/croqueta1.png', cv2.IMREAD_UNCHANGED)\n",
    "plt.axis(\"off\")\n",
    "plt.imshow(cv2.cvtColor(foto, cv2.COLOR_BGR2RGB))\n",
    "#plt.imshow(foto)\n",
    "plt.show()\n"
   ]
  },
  {
   "cell_type": "code",
   "execution_count": 25,
   "id": "f250d072",
   "metadata": {},
   "outputs": [
    {
     "name": "stdout",
     "output_type": "stream",
     "text": [
      "(943, 928, 4)\n"
     ]
    },
    {
     "data": {
      "image/png": "[encoded data removed]",
      "text/plain": [
       "<Figure size 432x288 with 1 Axes>"
      ]
     },
     "metadata": {
      "needs_background": "light"
     },
     "output_type": "display_data"
    }
   ],
   "source": [
    "src = cv2.imread('C:/Users/Marc/Documents/croqueta1.png', cv2.IMREAD_UNCHANGED)\n",
    "print(src.shape)\n",
    "src[:,:,1] = np.zeros([src.shape[0], src.shape[1]])\n",
    "#src[:,:,0] = np.zeros([src.shape[0], src.shape[1]])\n",
    "plt.imshow(src)\n",
    "plt.show()\n"
   ]
  },
  {
   "cell_type": "code",
   "execution_count": null,
   "id": "f948e991",
   "metadata": {},
   "outputs": [],
   "source": []
  }
 ],
 "metadata": {
  "kernelspec": {
   "display_name": "Python 3",
   "language": "python",
   "name": "python3"
  },
  "language_info": {
   "codemirror_mode": {
    "name": "ipython",
    "version": 3
   },
   "file_extension": ".py",
   "mimetype": "text/x-python",
   "name": "python",
   "nbconvert_exporter": "python",
   "pygments_lexer": "ipython3",
   "version": "3.8.8"
  }
 },
 "nbformat": 4,
 "nbformat_minor": 5
}
